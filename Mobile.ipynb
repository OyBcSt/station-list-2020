{
 "cells": [
  {
   "cell_type": "markdown",
   "id": "d7b49e5f",
   "metadata": {},
   "source": [
    "# Station List 2020 Restore Project\n",
    "\n",
    "*Click the Run button in the top menu to show the map.*\n",
    "\n",
    "Popups:\n",
    "- Red icon has a landmark\n",
    "- Blue has a Water Station\n",
    "- Light green has a Fishery Station\n",
    "- Dark green has a Water Station and a Fishery Station\n",
    "\n",
    "Click the Popup for the Station Name, Fishery Station Name, and Landmark"
   ]
  },
  {
   "cell_type": "code",
   "execution_count": null,
   "id": "b5a0831f",
   "metadata": {},
   "outputs": [],
   "source": [
    "import pandas as pd\n",
    "import folium\n",
    "station_file = \"RESTORE-Station-List-2020.csv\"\n",
    "station_data = pd.read_csv(station_file)\n",
    "locations = station_data[['Lat', 'Lon']]\n",
    "locationlist = locations.values.tolist()\n",
    "Colors = [\"white\"]*len(locationlist)\n",
    "Icons = [\"\"]*len(locationlist)\n",
    "for point in range(0, len(locationlist)): \n",
    "    if station_data[\"Water Station 2020 Restore\"][point] == 'x':\n",
    "        Colors[point]=(\"blue\")\n",
    "    elif type(station_data[\"Fishery Station Names\"][point]) != float:\n",
    "        Colors[point]=(\"lightgreen\")  \n",
    "    if type(station_data[\"Site Landmarks\"][point]) != float:\n",
    "        Icons[point]=(\"institution\")  \n",
    "    if station_data[\"Water Station 2020 Restore\"][point] == 'x' and type(station_data[\"Fishery Station Names\"][point]) != float:\n",
    "        Colors[point]=(\"darkgreen\")\n",
    "water = station_data['Water Station 2020 Restore'].fillna(\"\")\n",
    "fish = station_data[\"Fishery Station Names\"].fillna(\"\")\n",
    "Landmarks = station_data[\"Site Landmarks\"].fillna(\"\")\n",
    "m = folium.Map(location=[30.50355, -87.98733], zoom_start=10)\n",
    "for point in range(0, len(locationlist)):\n",
    "    folium.Marker(locationlist[point], popup=station_data['StationName'][point] + \"\\n\" + fish[point] + \"\\n\" + Landmarks[point],icon=folium.Icon(color=Colors[point],icon_color=\"red\", icon=Icons[point], angle=0, prefix='fa')).add_to(m)\n",
    "m"
   ]
  }
 ],
 "metadata": {
  "kernelspec": {
   "display_name": "Python 3 (ipykernel)",
   "language": "python",
   "name": "python3"
  },
  "language_info": {
   "codemirror_mode": {
    "name": "ipython",
    "version": 3
   },
   "file_extension": ".py",
   "mimetype": "text/x-python",
   "name": "python",
   "nbconvert_exporter": "python",
   "pygments_lexer": "ipython3",
   "version": "3.10.4"
  }
 },
 "nbformat": 4,
 "nbformat_minor": 5
}
